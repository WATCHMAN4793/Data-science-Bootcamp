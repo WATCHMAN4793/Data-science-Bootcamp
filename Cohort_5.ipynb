{
 "cells": [
  {
   "cell_type": "code",
   "execution_count": 1,
   "id": "142825dd-5b89-4ffd-8ce7-3fd661a57f65",
   "metadata": {},
   "outputs": [
    {
     "name": "stdout",
     "output_type": "stream",
     "text": [
      "Hello World\n"
     ]
    }
   ],
   "source": [
    "print(\"Hello World\")"
   ]
  },
  {
   "cell_type": "code",
   "execution_count": 2,
   "id": "4340f9a3-4f4f-439f-bda8-d10c890b8b01",
   "metadata": {
    "scrolled": true
   },
   "outputs": [
    {
     "ename": "SyntaxError",
     "evalue": "invalid syntax (2426708640.py, line 2)",
     "output_type": "error",
     "traceback": [
      "\u001b[1;36m  Cell \u001b[1;32mIn[2], line 2\u001b[1;36m\u001b[0m\n\u001b[1;33m    comments are used to tell a computer to ignore a part of a program. Text written in a program but not run by the computer. Python interprets anything after the # as a comment.\u001b[0m\n\u001b[1;37m             ^\u001b[0m\n\u001b[1;31mSyntaxError\u001b[0m\u001b[1;31m:\u001b[0m invalid syntax\n"
     ]
    }
   ],
   "source": [
    "## comments in python\n",
    "comments are used to tell a computer to ignore a part of a program. Text written in a program but not run by the computer. \n",
    "Python interpreter ignores anything after the # as a comment."
   ]
  },
  {
   "cell_type": "code",
   "execution_count": 3,
   "id": "0d20fc64-673f-46c5-9e6e-40128e95f89e",
   "metadata": {},
   "outputs": [],
   "source": [
    "# Simi no dey alright"
   ]
  },
  {
   "cell_type": "code",
   "execution_count": 5,
   "id": "3336d66a-7680-4e65-8a4c-02b78b8a942f",
   "metadata": {},
   "outputs": [],
   "source": [
    "# Exploring variables: Variable hold data or values\n",
    "score = 20"
   ]
  },
  {
   "cell_type": "code",
   "execution_count": 6,
   "id": "67355add-717d-42c7-8908-02603434c08b",
   "metadata": {},
   "outputs": [
    {
     "data": {
      "text/plain": [
       "20"
      ]
     },
     "execution_count": 6,
     "metadata": {},
     "output_type": "execute_result"
    }
   ],
   "source": [
    "score"
   ]
  },
  {
   "cell_type": "code",
   "execution_count": 7,
   "id": "f09fe903-95f2-4bb5-bd8b-f299fdb4b83c",
   "metadata": {},
   "outputs": [
    {
     "data": {
      "text/plain": [
       "80"
      ]
     },
     "execution_count": 7,
     "metadata": {},
     "output_type": "execute_result"
    }
   ],
   "source": [
    "score * 4"
   ]
  },
  {
   "cell_type": "code",
   "execution_count": 8,
   "id": "901b4c67-bf43-4009-b2dd-4167136ea36f",
   "metadata": {},
   "outputs": [
    {
     "data": {
      "text/plain": [
       "3200000"
      ]
     },
     "execution_count": 8,
     "metadata": {},
     "output_type": "execute_result"
    }
   ],
   "source": [
    "pow(score,5)"
   ]
  },
  {
   "cell_type": "code",
   "execution_count": 9,
   "id": "14f79a1c-2eb3-4c15-ae62-89964b1e8f5f",
   "metadata": {},
   "outputs": [
    {
     "data": {
      "text/plain": [
       "3200000"
      ]
     },
     "execution_count": 9,
     "metadata": {},
     "output_type": "execute_result"
    }
   ],
   "source": [
    "score ** 5"
   ]
  },
  {
   "cell_type": "code",
   "execution_count": 13,
   "id": "af2cb060-e68c-4bc0-81e2-df5a6b21744d",
   "metadata": {},
   "outputs": [],
   "source": [
    "# This is a string data type\n",
    "name = \"simi\""
   ]
  },
  {
   "cell_type": "code",
   "execution_count": 14,
   "id": "e72e27b7-838e-499d-9a55-f02fff47e76d",
   "metadata": {},
   "outputs": [
    {
     "data": {
      "text/plain": [
       "'simi'"
      ]
     },
     "execution_count": 14,
     "metadata": {},
     "output_type": "execute_result"
    }
   ],
   "source": [
    "name"
   ]
  },
  {
   "cell_type": "code",
   "execution_count": 15,
   "id": "ed2dc79c-511b-4836-af17-e2ac3d4b755f",
   "metadata": {},
   "outputs": [
    {
     "name": "stdout",
     "output_type": "stream",
     "text": [
      "simi\n"
     ]
    }
   ],
   "source": [
    "# TO remove the apostrofy we can input the print word\n",
    "print(name)"
   ]
  },
  {
   "cell_type": "code",
   "execution_count": 16,
   "id": "016b5aff-37a6-4bb8-8ecd-cc6977d25d74",
   "metadata": {
    "scrolled": true
   },
   "outputs": [
    {
     "data": {
      "text/plain": [
       "str"
      ]
     },
     "execution_count": 16,
     "metadata": {},
     "output_type": "execute_result"
    }
   ],
   "source": [
    "type(name)"
   ]
  },
  {
   "cell_type": "code",
   "execution_count": null,
   "id": "b0c1143e-4897-41fa-b11d-16ea32af4d41",
   "metadata": {},
   "outputs": [],
   "source": [
    "# type(name) it helps to indicate the variable"
   ]
  },
  {
   "cell_type": "code",
   "execution_count": 17,
   "id": "df5449df-7656-4eae-ac11-38e1cc37f5e4",
   "metadata": {},
   "outputs": [
    {
     "data": {
      "text/plain": [
       "int"
      ]
     },
     "execution_count": 17,
     "metadata": {},
     "output_type": "execute_result"
    }
   ],
   "source": [
    "type(score)"
   ]
  },
  {
   "cell_type": "code",
   "execution_count": null,
   "id": "70849fd3-7cf1-4f83-9437-45885f1db85b",
   "metadata": {},
   "outputs": [],
   "source": [
    "# type(score) it helps to indicate the variabe"
   ]
  },
  {
   "cell_type": "code",
   "execution_count": 21,
   "id": "9eba11ca-a058-4afe-b4fa-2f6690c432b0",
   "metadata": {},
   "outputs": [],
   "source": [
    "# This is boolean data type\n",
    "answer = True"
   ]
  },
  {
   "cell_type": "code",
   "execution_count": 22,
   "id": "f759628b-d9a0-4049-b13a-a738007287e9",
   "metadata": {},
   "outputs": [
    {
     "data": {
      "text/plain": [
       "bool"
      ]
     },
     "execution_count": 22,
     "metadata": {},
     "output_type": "execute_result"
    }
   ],
   "source": [
    "type(answer)"
   ]
  },
  {
   "cell_type": "code",
   "execution_count": 33,
   "id": "5aa23e8b-66cb-4b1a-9bc6-311832cdcb64",
   "metadata": {},
   "outputs": [],
   "source": [
    "# Data type\n",
    "age = 25\n",
    "height = 5.11\n",
    "name = \"Alice\"\n",
    "is_student = True"
   ]
  },
  {
   "cell_type": "code",
   "execution_count": 25,
   "id": "81a03ebe-c72b-4fb4-84e2-d04123246ef5",
   "metadata": {},
   "outputs": [
    {
     "data": {
      "text/plain": [
       "float"
      ]
     },
     "execution_count": 25,
     "metadata": {},
     "output_type": "execute_result"
    }
   ],
   "source": [
    "type(height)"
   ]
  },
  {
   "cell_type": "code",
   "execution_count": 31,
   "id": "570b7523-ef1c-41d2-b683-ee8b827c305f",
   "metadata": {},
   "outputs": [
    {
     "data": {
      "text/plain": [
       "True"
      ]
     },
     "execution_count": 31,
     "metadata": {},
     "output_type": "execute_result"
    }
   ],
   "source": [
    "is_student"
   ]
  },
  {
   "cell_type": "code",
   "execution_count": null,
   "id": "7bff9edf-ffc3-423b-8d5f-49e94c2ab030",
   "metadata": {},
   "outputs": [],
   "source": [
    "# = is used to assign a value, == IS USED TO COMPARE VALUES ON THE LEFT & RIGHT"
   ]
  },
  {
   "cell_type": "code",
   "execution_count": 35,
   "id": "865871d4-1a3d-4517-a158-d5f6d125048f",
   "metadata": {},
   "outputs": [],
   "source": [
    "simi = True"
   ]
  },
  {
   "cell_type": "code",
   "execution_count": 36,
   "id": "45db4820-d0e5-4bd3-bf5b-32f6db99b60c",
   "metadata": {},
   "outputs": [
    {
     "data": {
      "text/plain": [
       "True"
      ]
     },
     "execution_count": 36,
     "metadata": {},
     "output_type": "execute_result"
    }
   ],
   "source": [
    "simi == is_student"
   ]
  },
  {
   "cell_type": "code",
   "execution_count": 42,
   "id": "de85a602-54aa-4bb8-8a83-5c0a5ede0e00",
   "metadata": {},
   "outputs": [],
   "source": [
    "# Type casting\n",
    "cgpa = 3.8"
   ]
  },
  {
   "cell_type": "code",
   "execution_count": 43,
   "id": "b9e04d52-cfcf-4c37-b33b-bb2e019b26c2",
   "metadata": {},
   "outputs": [
    {
     "data": {
      "text/plain": [
       "3"
      ]
     },
     "execution_count": 43,
     "metadata": {},
     "output_type": "execute_result"
    }
   ],
   "source": [
    "int(cgpa)"
   ]
  },
  {
   "cell_type": "code",
   "execution_count": 44,
   "id": "738c244c-dcb4-436d-aea5-7485185fbde3",
   "metadata": {},
   "outputs": [],
   "source": [
    "cgpa = str(cgpa)"
   ]
  },
  {
   "cell_type": "code",
   "execution_count": 45,
   "id": "06ceef9b-cfa6-405e-8f81-b0fc1f60a14e",
   "metadata": {},
   "outputs": [
    {
     "data": {
      "text/plain": [
       "str"
      ]
     },
     "execution_count": 45,
     "metadata": {},
     "output_type": "execute_result"
    }
   ],
   "source": [
    "type(cgpa)"
   ]
  },
  {
   "cell_type": "code",
   "execution_count": null,
   "id": "a35bdd29-8e64-4564-9986-74e63cb554de",
   "metadata": {},
   "outputs": [],
   "source": [
    "### Operators and Expressions\n",
    "Operators are special symbol in Python that carry out arithmetric or logical computation. \n",
    "The value that the operator operate on is called the OPERAND. "
   ]
  },
  {
   "cell_type": "code",
   "execution_count": 46,
   "id": "2402134d-d0cd-42d7-b194-3a3e424b31ae",
   "metadata": {},
   "outputs": [
    {
     "data": {
      "text/plain": [
       "6"
      ]
     },
     "execution_count": 46,
     "metadata": {},
     "output_type": "execute_result"
    }
   ],
   "source": [
    "# Addition (The sign is the operator, while the values on both sides are called OPERAND)\n",
    "2 + 4"
   ]
  },
  {
   "cell_type": "code",
   "execution_count": 49,
   "id": "c6dada3b-0ec3-46f6-8026-9a4a464fd233",
   "metadata": {},
   "outputs": [
    {
     "data": {
      "text/plain": [
       "2"
      ]
     },
     "execution_count": 49,
     "metadata": {},
     "output_type": "execute_result"
    }
   ],
   "source": [
    "# Subtraction\n",
    "6 - 4"
   ]
  },
  {
   "cell_type": "code",
   "execution_count": 50,
   "id": "16ecd7b0-f9c7-4709-9deb-6c16002fb6f0",
   "metadata": {},
   "outputs": [
    {
     "data": {
      "text/plain": [
       "8"
      ]
     },
     "execution_count": 50,
     "metadata": {},
     "output_type": "execute_result"
    }
   ],
   "source": [
    "# Multiply\n",
    "2 * 4"
   ]
  },
  {
   "cell_type": "code",
   "execution_count": 51,
   "id": "5a29cb01-9e6b-4cc3-b397-3876cc2260a6",
   "metadata": {},
   "outputs": [
    {
     "data": {
      "text/plain": [
       "2.0"
      ]
     },
     "execution_count": 51,
     "metadata": {},
     "output_type": "execute_result"
    }
   ],
   "source": [
    "# Division\n",
    "8 / 4"
   ]
  },
  {
   "cell_type": "code",
   "execution_count": 52,
   "id": "c1212960-c68a-439e-b07b-16d6c1274c8a",
   "metadata": {},
   "outputs": [
    {
     "data": {
      "text/plain": [
       "4"
      ]
     },
     "execution_count": 52,
     "metadata": {},
     "output_type": "execute_result"
    }
   ],
   "source": [
    "# Modulus operator\n",
    "9 % 5"
   ]
  },
  {
   "cell_type": "code",
   "execution_count": 53,
   "id": "39c4c8d2-b7bf-4a15-a4bc-888c6462268c",
   "metadata": {},
   "outputs": [
    {
     "data": {
      "text/plain": [
       "2"
      ]
     },
     "execution_count": 53,
     "metadata": {},
     "output_type": "execute_result"
    }
   ],
   "source": [
    "12 % 5"
   ]
  },
  {
   "cell_type": "code",
   "execution_count": 54,
   "id": "193f81b0-931e-4f90-bfd5-9d0c858ecdf4",
   "metadata": {},
   "outputs": [
    {
     "data": {
      "text/plain": [
       "0"
      ]
     },
     "execution_count": 54,
     "metadata": {},
     "output_type": "execute_result"
    }
   ],
   "source": [
    "8 % 4"
   ]
  },
  {
   "cell_type": "code",
   "execution_count": 55,
   "id": "df4ecc93-0388-4329-9f35-3e2e03812e2f",
   "metadata": {},
   "outputs": [
    {
     "data": {
      "text/plain": [
       "0"
      ]
     },
     "execution_count": 55,
     "metadata": {},
     "output_type": "execute_result"
    }
   ],
   "source": [
    "100 % 20"
   ]
  },
  {
   "cell_type": "code",
   "execution_count": 56,
   "id": "d8c5e06b-6254-4772-b3f2-611986298d60",
   "metadata": {},
   "outputs": [
    {
     "data": {
      "text/plain": [
       "8"
      ]
     },
     "execution_count": 56,
     "metadata": {},
     "output_type": "execute_result"
    }
   ],
   "source": [
    "## Exponent\n",
    "2 ** 3"
   ]
  },
  {
   "cell_type": "code",
   "execution_count": 57,
   "id": "ffc07935-4616-4a9a-beca-f1fed452a380",
   "metadata": {},
   "outputs": [
    {
     "data": {
      "text/plain": [
       "2"
      ]
     },
     "execution_count": 57,
     "metadata": {},
     "output_type": "execute_result"
    }
   ],
   "source": [
    "Makes it a whole number and removes the decimal point.\n",
    "## Floor Division\n",
    "9 // 4"
   ]
  },
  {
   "cell_type": "code",
   "execution_count": 58,
   "id": "21d59f1e-26d9-434c-b154-3c126442a7a7",
   "metadata": {},
   "outputs": [
    {
     "data": {
      "text/plain": [
       "4"
      ]
     },
     "execution_count": 58,
     "metadata": {},
     "output_type": "execute_result"
    }
   ],
   "source": [
    "14 // 3"
   ]
  },
  {
   "cell_type": "code",
   "execution_count": 63,
   "id": "45676e08-9aa4-4875-b91a-ed6434d765d8",
   "metadata": {},
   "outputs": [],
   "source": [
    "# The assignment Operator\n",
    "a = 10\n",
    "b = 20\n",
    "c = 30"
   ]
  },
  {
   "cell_type": "code",
   "execution_count": 61,
   "id": "8165f392-cb6c-4417-907f-cac7c2b1fe6e",
   "metadata": {},
   "outputs": [],
   "source": [
    "# a += b ( still the same format)\n",
    "a = a + b"
   ]
  },
  {
   "cell_type": "code",
   "execution_count": 62,
   "id": "3b47c423-cef6-49a9-8a81-a95c8567bed7",
   "metadata": {},
   "outputs": [
    {
     "data": {
      "text/plain": [
       "30"
      ]
     },
     "execution_count": 62,
     "metadata": {},
     "output_type": "execute_result"
    }
   ],
   "source": [
    "a"
   ]
  },
  {
   "cell_type": "code",
   "execution_count": 64,
   "id": "2d7c4dd0-c46b-4c1c-8754-a5fba978b68c",
   "metadata": {},
   "outputs": [
    {
     "data": {
      "text/plain": [
       "10"
      ]
     },
     "execution_count": 64,
     "metadata": {},
     "output_type": "execute_result"
    }
   ],
   "source": [
    "a"
   ]
  },
  {
   "cell_type": "code",
   "execution_count": 65,
   "id": "cc5af01d-69d9-403e-a596-b845331ab359",
   "metadata": {},
   "outputs": [
    {
     "data": {
      "text/plain": [
       "False"
      ]
     },
     "execution_count": 65,
     "metadata": {},
     "output_type": "execute_result"
    }
   ],
   "source": [
    "It's false because b = 20\n",
    "# The double equals to operator\n",
    "a == b"
   ]
  },
  {
   "cell_type": "code",
   "execution_count": 70,
   "id": "0c7a6a6a-05d8-45c1-983b-92af45675a90",
   "metadata": {},
   "outputs": [],
   "source": [
    "name = \"simi\"\n",
    "name_1 = \"ope\"\n",
    "name_2 = \"Simi\""
   ]
  },
  {
   "cell_type": "code",
   "execution_count": 69,
   "id": "74955f4f-14f8-4fd0-9bfb-883a29f58ef2",
   "metadata": {},
   "outputs": [
    {
     "data": {
      "text/plain": [
       "False"
      ]
     },
     "execution_count": 69,
     "metadata": {},
     "output_type": "execute_result"
    }
   ],
   "source": [
    "name == name_2"
   ]
  },
  {
   "cell_type": "code",
   "execution_count": 71,
   "id": "8834d60b-b360-4802-a0eb-fbbd47c826df",
   "metadata": {},
   "outputs": [
    {
     "data": {
      "text/plain": [
       "True"
      ]
     },
     "execution_count": 71,
     "metadata": {},
     "output_type": "execute_result"
    }
   ],
   "source": [
    "# when it's not equals to\n",
    "name != name_2"
   ]
  },
  {
   "cell_type": "code",
   "execution_count": 72,
   "id": "94e20e6a-ab85-4777-8d72-796b70c8dc6e",
   "metadata": {},
   "outputs": [
    {
     "name": "stdout",
     "output_type": "stream",
     "text": [
      "10\n",
      "20\n"
     ]
    }
   ],
   "source": [
    "# The greater than and less than sign\n",
    "print(a)\n",
    "print(b)"
   ]
  },
  {
   "cell_type": "code",
   "execution_count": 73,
   "id": "b8eccf4d-6596-4077-8703-0e2144efa601",
   "metadata": {},
   "outputs": [
    {
     "data": {
      "text/plain": [
       "False"
      ]
     },
     "execution_count": 73,
     "metadata": {},
     "output_type": "execute_result"
    }
   ],
   "source": [
    "a > b"
   ]
  },
  {
   "cell_type": "code",
   "execution_count": 74,
   "id": "2f8b765a-f7c0-4707-a2f3-29ddb24966d4",
   "metadata": {},
   "outputs": [
    {
     "data": {
      "text/plain": [
       "True"
      ]
     },
     "execution_count": 74,
     "metadata": {},
     "output_type": "execute_result"
    }
   ],
   "source": [
    "a < b"
   ]
  },
  {
   "cell_type": "code",
   "execution_count": null,
   "id": "5fdabc0a-b7fa-450a-b018-5becef2978b0",
   "metadata": {},
   "outputs": [],
   "source": [
    "## Control Flow\n",
    "This is how we give direction to the program to execute some certain logic when a condition is met,\n",
    "and behave differently when the condition is not met.\n",
    "We accomplish this using the conditional statements(if, elif(else if), else)"
   ]
  },
  {
   "cell_type": "code",
   "execution_count": 94,
   "id": "d4d7aa37-449e-47cd-b5a4-543d15742f4b",
   "metadata": {},
   "outputs": [],
   "source": [
    "age = 18"
   ]
  },
  {
   "cell_type": "code",
   "execution_count": 81,
   "id": "e3805c4a-0f82-4dc5-b74a-61d82c768b95",
   "metadata": {},
   "outputs": [
    {
     "name": "stdout",
     "output_type": "stream",
     "text": [
      "You're an adult\n"
     ]
    }
   ],
   "source": [
    "if age >= 18:\n",
    "    print(\"You're an adult\")\n",
    "else:\n",
    "    print(\"You're not old enough\")"
   ]
  },
  {
   "cell_type": "code",
   "execution_count": 104,
   "id": "d493a4f3-114d-47b9-b338-8828004cd76d",
   "metadata": {},
   "outputs": [
    {
     "name": "stdin",
     "output_type": "stream",
     "text": [
      "What is your age 16\n"
     ]
    },
    {
     "name": "stdout",
     "output_type": "stream",
     "text": [
      "You're still an adolescent\n"
     ]
    }
   ],
   "source": [
    "age = int(input(\"What is your age\"))\n",
    "if age >= 18:\n",
    "          print('You\"re too matured')\n",
    "elif age >= 16 or age == 18:\n",
    "    print(\"You're still an adolescent\")\n",
    "else:\n",
    "       print(\"You're a minor\")         \n"
   ]
  },
  {
   "cell_type": "code",
   "execution_count": null,
   "id": "6b704d30-bf49-421a-a772-e0d92f9e4497",
   "metadata": {},
   "outputs": [],
   "source": [
    "### Using the for and range functions\n",
    "The for loop is used for looping through a sequence, while the range is used for a start and stop."
   ]
  },
  {
   "cell_type": "code",
   "execution_count": 99,
   "id": "c694db43-c6d3-42c3-b1ba-be25bb3c3f93",
   "metadata": {},
   "outputs": [
    {
     "data": {
      "text/plain": [
       "range(0, 5)"
      ]
     },
     "execution_count": 99,
     "metadata": {},
     "output_type": "execute_result"
    }
   ],
   "source": [
    "# It brings btw 0 and 5\n",
    "range(5)"
   ]
  },
  {
   "cell_type": "code",
   "execution_count": 98,
   "id": "2f25bec8-8c55-4eda-93c4-31026b29fb45",
   "metadata": {},
   "outputs": [
    {
     "name": "stdout",
     "output_type": "stream",
     "text": [
      "0\n",
      "1\n",
      "2\n",
      "3\n",
      "4\n",
      "5\n",
      "6\n",
      "7\n"
     ]
    }
   ],
   "source": [
    "for i in range(8):\n",
    "    print(i)"
   ]
  },
  {
   "cell_type": "code",
   "execution_count": null,
   "id": "3e80bc95-db54-4553-95d5-1c4015aa940a",
   "metadata": {},
   "outputs": [],
   "source": [
    "### Data Types in Python\n",
    "- Integar: This is numeric ( Whole number)\n",
    "- Float: This is numeric ( Deceimal_)\n",
    "- Strings: This is Text or character, always written in quotation marks.\n",
    "- Boolean: This is True / False ( Must start with capital letter)\n",
    "- None: This is used to represent Emptiness"
   ]
  },
  {
   "cell_type": "code",
   "execution_count": null,
   "id": "576aaa83-f919-4c71-aedf-e14d5f84f94d",
   "metadata": {},
   "outputs": [],
   "source": [
    "Data Structure\n",
    "\n",
    "This is how python stores data\n",
    "\n",
    "- List\n",
    "- Tuple\n",
    "- Dictionary\n",
    "- Set"
   ]
  },
  {
   "cell_type": "markdown",
   "id": "e418395c-0a25-4845-a29d-0eb5c35b6113",
   "metadata": {},
   "source": [
    "### List\n",
    "List is an orderedand immutable or changeable data structure in python.\n",
    "Pyhton uses square brackest for denoting a list"
   ]
  },
  {
   "cell_type": "code",
   "execution_count": 25,
   "id": "38a8eac3-e707-48a7-9283-7d4dc7e46b49",
   "metadata": {},
   "outputs": [],
   "source": [
    "fruits = [\"apple\", \"banana\", \"cherry\", \"pineapple\", \"mango\"]"
   ]
  },
  {
   "cell_type": "code",
   "execution_count": 8,
   "id": "7646a76a-b764-4b53-ac7e-cd91dbeb0a80",
   "metadata": {},
   "outputs": [
    {
     "data": {
      "text/plain": [
       "['apple', 'banana', 'cherry', 'pineapple', 'mango']"
      ]
     },
     "execution_count": 8,
     "metadata": {},
     "output_type": "execute_result"
    }
   ],
   "source": [
    "fruits"
   ]
  },
  {
   "cell_type": "code",
   "execution_count": 9,
   "id": "dc65cb2a-1340-48b2-9ab6-d2b8b822d55c",
   "metadata": {},
   "outputs": [
    {
     "data": {
      "text/plain": [
       "['apple', 'banana', 'cherry', 'pineapple']"
      ]
     },
     "execution_count": 9,
     "metadata": {},
     "output_type": "execute_result"
    }
   ],
   "source": [
    "fruits[0:4]"
   ]
  },
  {
   "cell_type": "code",
   "execution_count": 10,
   "id": "646d664b-9147-41f5-8fa6-6a5d9dede0df",
   "metadata": {},
   "outputs": [
    {
     "data": {
      "text/plain": [
       "['apple', 'pineapple']"
      ]
     },
     "execution_count": 10,
     "metadata": {},
     "output_type": "execute_result"
    }
   ],
   "source": [
    "fruits[0:4:3]"
   ]
  },
  {
   "cell_type": "code",
   "execution_count": 11,
   "id": "70c87432-7e78-4b29-a826-f099b0cdf1b0",
   "metadata": {},
   "outputs": [
    {
     "data": {
      "text/plain": [
       "['apple', 'cherry']"
      ]
     },
     "execution_count": 11,
     "metadata": {},
     "output_type": "execute_result"
    }
   ],
   "source": [
    "fruits[0:4:2]"
   ]
  },
  {
   "cell_type": "code",
   "execution_count": 12,
   "id": "e460d696-e9b1-4279-a86f-415fc8fbeed5",
   "metadata": {},
   "outputs": [
    {
     "data": {
      "text/plain": [
       "['apple', 'banana', 'cherry', 'pineapple']"
      ]
     },
     "execution_count": 12,
     "metadata": {},
     "output_type": "execute_result"
    }
   ],
   "source": [
    "When using :1, it stands for default and it brings 4 fruits out.\n",
    "fruits[0:4:1]"
   ]
  },
  {
   "cell_type": "code",
   "execution_count": 16,
   "id": "fea2c7dd-b506-4d01-8022-6ba2bfe910a2",
   "metadata": {},
   "outputs": [
    {
     "data": {
      "text/plain": [
       "['apple', 'cherry']"
      ]
     },
     "execution_count": 16,
     "metadata": {},
     "output_type": "execute_result"
    }
   ],
   "source": [
    "fruits[0:4:2]"
   ]
  },
  {
   "cell_type": "code",
   "execution_count": 17,
   "id": "4273bfe2-fc25-4229-bb5e-4dccdfc90c0e",
   "metadata": {},
   "outputs": [
    {
     "name": "stdout",
     "output_type": "stream",
     "text": [
      "apple\n",
      "banana\n",
      "cherry\n",
      "pineapple\n",
      "mango\n"
     ]
    }
   ],
   "source": [
    "for i in fruits:\n",
    "    print(i)"
   ]
  },
  {
   "cell_type": "code",
   "execution_count": 18,
   "id": "209b57f0-96cb-4100-a681-6f836f23a1a1",
   "metadata": {},
   "outputs": [
    {
     "data": {
      "text/plain": [
       "['apple', 'banana', 'cherry', 'pineapple', 'mango']"
      ]
     },
     "execution_count": 18,
     "metadata": {},
     "output_type": "execute_result"
    }
   ],
   "source": [
    "fruits[:]"
   ]
  },
  {
   "cell_type": "code",
   "execution_count": 19,
   "id": "bc054269-6f50-457e-9e97-534a5601ce9c",
   "metadata": {},
   "outputs": [
    {
     "data": {
      "text/plain": [
       "['apple', 'banana', 'cherry', 'pineapple']"
      ]
     },
     "execution_count": 19,
     "metadata": {},
     "output_type": "execute_result"
    }
   ],
   "source": [
    "This minuses the last fruit on the list which is mango\n",
    "fruits[:-1]"
   ]
  },
  {
   "cell_type": "code",
   "execution_count": 20,
   "id": "653f7bd7-32a7-4604-9e87-f18ab02b76fb",
   "metadata": {},
   "outputs": [
    {
     "data": {
      "text/plain": [
       "'mango'"
      ]
     },
     "execution_count": 20,
     "metadata": {},
     "output_type": "execute_result"
    }
   ],
   "source": [
    "This brings out only the last fruit on the list which is mango.\n",
    "fruits[-1]"
   ]
  },
  {
   "cell_type": "code",
   "execution_count": null,
   "id": "a9899efe-06c4-45aa-a89b-90c7e2d3d88c",
   "metadata": {},
   "outputs": [],
   "source": [
    "### List Methods\n",
    "These are methods that we use to manipulate and change the list."
   ]
  },
  {
   "cell_type": "code",
   "execution_count": 26,
   "id": "ebab81ba-66eb-44e3-8713-68a9da73940d",
   "metadata": {},
   "outputs": [],
   "source": [
    "# Using the append method to add more element to the end of the list.\n",
    "fruits.append(\"Watermelon\")"
   ]
  },
  {
   "cell_type": "markdown",
   "id": "f2e48960-f0d4-4fe7-8feb-0415fd9bbf40",
   "metadata": {},
   "source": [
    "fruits"
   ]
  },
  {
   "cell_type": "code",
   "execution_count": 22,
   "id": "8feb7ab6-5005-4617-9bd9-90122f96d0fd",
   "metadata": {},
   "outputs": [
    {
     "data": {
      "text/plain": [
       "['apple', 'banana', 'cherry', 'pineapple', 'mango', 'Watermelon']"
      ]
     },
     "execution_count": 22,
     "metadata": {},
     "output_type": "execute_result"
    }
   ],
   "source": [
    "fruits"
   ]
  },
  {
   "cell_type": "code",
   "execution_count": 23,
   "id": "977b1554-ff0d-4dba-9d4c-ae2e6242cadd",
   "metadata": {},
   "outputs": [],
   "source": [
    "# This method will clear all the contect on the list\n",
    "fruits.clear()"
   ]
  },
  {
   "cell_type": "code",
   "execution_count": 24,
   "id": "f76d7377-7c65-4b77-96b9-4be9389ac030",
   "metadata": {},
   "outputs": [
    {
     "data": {
      "text/plain": [
       "[]"
      ]
     },
     "execution_count": 24,
     "metadata": {},
     "output_type": "execute_result"
    }
   ],
   "source": [
    "fruits"
   ]
  },
  {
   "cell_type": "code",
   "execution_count": 27,
   "id": "9c31981e-4703-4231-b5e9-c382f724ec32",
   "metadata": {},
   "outputs": [
    {
     "data": {
      "text/plain": [
       "['apple', 'banana', 'cherry', 'pineapple', 'mango', 'Watermelon']"
      ]
     },
     "execution_count": 27,
     "metadata": {},
     "output_type": "execute_result"
    }
   ],
   "source": [
    "fruits.copy()"
   ]
  },
  {
   "cell_type": "code",
   "execution_count": 29,
   "id": "ef7df012-6380-4d7c-a785-16d633eaabb6",
   "metadata": {},
   "outputs": [],
   "source": [
    "fruits_1 = fruits.copy()"
   ]
  },
  {
   "cell_type": "code",
   "execution_count": 30,
   "id": "512a3801-0840-4d9a-b739-f33981328165",
   "metadata": {},
   "outputs": [],
   "source": [
    "fruits_1.append(\"Cucumber\")"
   ]
  },
  {
   "cell_type": "code",
   "execution_count": 31,
   "id": "5861c16c-d462-4f7a-a1ea-035bd0a0b65b",
   "metadata": {},
   "outputs": [
    {
     "data": {
      "text/plain": [
       "['apple', 'banana', 'cherry', 'pineapple', 'mango', 'Watermelon', 'Cucumber']"
      ]
     },
     "execution_count": 31,
     "metadata": {},
     "output_type": "execute_result"
    }
   ],
   "source": [
    "fruits_1"
   ]
  },
  {
   "cell_type": "code",
   "execution_count": null,
   "id": "93cb523c-ddcb-4b20-83b6-2826a8da37f7",
   "metadata": {},
   "outputs": [],
   "source": []
  }
 ],
 "metadata": {
  "kernelspec": {
   "display_name": "Python 3 (ipykernel)",
   "language": "python",
   "name": "python3"
  },
  "language_info": {
   "codemirror_mode": {
    "name": "ipython",
    "version": 3
   },
   "file_extension": ".py",
   "mimetype": "text/x-python",
   "name": "python",
   "nbconvert_exporter": "python",
   "pygments_lexer": "ipython3",
   "version": "3.11.7"
  }
 },
 "nbformat": 4,
 "nbformat_minor": 5
}
